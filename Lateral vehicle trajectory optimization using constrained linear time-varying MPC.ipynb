{
 "cells": [
  {
   "cell_type": "markdown",
   "id": "24db120f",
   "metadata": {},
   "source": [
    "Gutjahr, B., Gröll, L., & Werling, M. (2016). Lateral vehicle trajectory optimization using constrained linear time-varying MPC. IEEE Transactions on Intelligent Transportation Systems, 18(6), 1586-1595. | 236\n"
   ]
  },
  {
   "cell_type": "markdown",
   "id": "2b46fd86",
   "metadata": {},
   "source": [
    "<!-- In this paper, a trajectory optimization algorithm is proposed, which formulates the lateral vehicle guidance task along a reference curve as a constrained optimal control problem. \n",
    "The optimization problem is solved by means of a linear time-varying model predictive control scheme that generates trajectories for path following under consideration of various time-varying system constraints in a receding horizon fashion. \n",
    "Formulating the system dynamics linearly in combination with a quadratic cost function has two great advantages. \n",
    "First, the system constraints can be set up not only to achieve collision avoidance with both static and dynamic obstacles, but also aspects of human driving behavior can be considered. \n",
    "Second, the optimization problem can be solved very efficiently, such that the algorithm can be run with little computational effort. \n",
    "In addition, due to an elaborate problem formulation, reference curves with discontinuous, high curvatures will be effortlessly smoothed out by the algorithm. \n",
    "This makes the proposed algorithm applicable to different traffic scenarios, such as parking or highway driving. \n",
    "Experimental results are presented for different real-world scenarios to demonstrate the algorithm’s abilities. -->\n",
    "本文提出了一种轨迹优化算法, 将沿参考曲线的横向车辆引导任务建模为带约束的最优控制问题。\n",
    "优化问题通过线性时变模型预测控制方案来求解, 该方案在考虑各种时变系统约束的情况下, 以滚动优化(receding horizon)方式为path生成轨迹。\n",
    "线性地建模系统动力学与二次成本函数结合有两大优点。\n",
    "首先, 设置系统约束不仅可以实现与静态和动态障碍物的碰撞避免, 还可以考虑人类驾驶行为的各个方面。\n",
    "其次, 优化问题可以被非常有效地求解, 使得算法可以以很少的计算量运行。\n",
    "此外, 由于缜密的问题建模, 具有不连续、高曲率的参考曲线将被算法毫不费力地平滑。\n",
    "这使得所提出的算法适用于不同的交通场景, 例如停车或高速公路驾驶。\n",
    "针对不同的现实场景给出了实验结果, 以演示算法的能力。"
   ]
  },
  {
   "cell_type": "markdown",
   "id": "59d171b1",
   "metadata": {},
   "source": [
    "# INTRODUCTION\n",
    "<!-- Within the last few decades a strong research effort was made to improve comfort and safety in road traffic by vehicle automation. \n",
    "This has already led to great achievements in supporting the driver in various monotonous and challenging driving situations, see [27], [33]. \n",
    "In order to raise the level of vehicle automation towards highly- and fully-automated driving, current research focuses on trajectory generation algorithms that can cope with complex traffic featuring dynamic, time-critical street scenarios, such as merging into fast traffic flow, to pass opposing traffic, or to avoid other moving vehicles [38]. \n",
    "In addition to that, aspects of human driving behavior get more and more into focus (see e. g. [17], [26]). \n",
    "For this reason these planning algorithms must not only produce safe trajectories for a preferably wide range of driving scenarios, but also user-acceptable ones. -->\n",
    "在过去的几十年里, 人们进行了大量的研究工作, 通过车辆自动化提高道路交通的舒适性和安全性。\n",
    "在支持驾驶员应对各种单调和具有挑战性的驾驶情况方面已经取得巨大成就, 参见[27]、[33]。\n",
    "为了提高车辆自动化水平, 迈向高度且全面的自动驾驶, 当前研究聚焦于轨迹生成算法, 该算法可以应对复杂交通特征动态、时间紧急的街道场景, 例如汇入快速交通流、通过对向交通, 或躲避其他移动车辆[38]。\n",
    "除此之外, 人类驾驶行为方面越来越受到关注(参见[17]、[26])。\n",
    "因此，这些规划算法必须为更广泛的驾驶场景生成安全轨迹, 还必须是用户可接受的。\n",
    "\n",
    "In literature many different methods for trajectory generation for automated vehicles exist. \n",
    "Under certain assumptions, fairly simple heuristics in combination with pathplanning strategies were designed for isolated dynamic traffic scenarios [37]. \n",
    "When trying to integrate these heuristics into a universal concept, these approaches quickly reach their limits resulting in poor performance or even accidents [13]. \n",
    "Apart from these rule-based methods, potential field methods have been studied intensively (see e. g. [7], [23]). \n",
    "Due to their intuitive problem formulation, potential field methods have been used for several different vehicle applications. \n",
    "However, as shown in [22] there are still open issues as system dynamics and constraints are difficult to integrate within this approach.\n",
    "On the contrary, as shown in [1], [16], [31], and [38], optimization techniques have been applied successfully and therefore became the established method for trajectory generation over the last years. \n",
    "Within the field of optimization, there are three methods that can be distinguished. \n",
    "Throughout literature, many applications for vehicle automation can be found for all of these methods.\n",
    "在文献中存在许多不同的自动车辆轨迹生成方法。\n",
    "在某些假设下，针对孤立的动态交通场景，设计了相当简单的启发式方法与路径规划策略相结合[37]。\n",
    "当试图将这些启发式方法整合到一个通用概念中时，这些方法很快就达到了极限，导致性能不佳甚至发生事故[13]。\n",
    "除了这些基于规则的方法之外，势场方法也得到了深入研究（参见[7]、[23]）。\n",
    "由于其直观的问题表述，势场方法已用于多种不同的车辆应用。\n",
    "然而，如[22]所示，仍然存在未解决的问题，因为系统动力学和约束很难集成到这种方法中。\n",
    "相反，如[1]、[16]、[31]和[38]所示，优化技术已被成功应用，因此成为过去几年轨迹生成的既定方法。\n",
    "在优化领域内，可以区分三种方法。\n",
    "在整个文献中，可以找到所有这些方法的许多车辆自动化应用。\n",
    "\n",
    "First, Dynamic Programming can be applied to a broad range of universal system models. Various different terms can be easily integrated into the cost function, as well as system constraints can be added flexibly. In addition to that, even non convex optimization problems can be solved globally. Unfortunately, due to the curse of dimensionality, [3], Dynamic Programming is very limited to small order system models. All these properties, on the one hand, make this method highly attractive for planning the future vehicle motion on a tactical level [16]. On the other hand, it is by far not possible to generate trajectories online that are sufficiently smooth to be used as system inputs for vehicle applications. For this reason, as suggested for instance in [18], it is favorable to combine Dynamic Programming with other optimization methods. For example, the rough reference curve for the parking scenario in the result section was generated by Dynamic Programming [34].\n",
    "\n",
    "Second, although Indirect Methods can only be applied to local optimization problems, they show great potential with respect to trajectory generation in some special cases. In [19] it has been shown that for simple system models solutions to the optimization problem can be found extremely efficiently. In these very rare cases, an analytical solution can be pre-calculated offline. However, considering system constraints explicitly within the optimization is extremely difficult. Additionally, when solving the optimization problem numerically, initial conditions for the adjoint variables must be determined. This makes the applications of the Indirect Methods unflexible for online applications. Nevertheless, [38] shows how these methods can be applied successfully. In this case, a simple system model is used in combination with a discretized terminal manifold and sampling, such that the constrained optimization problem can be solved at least in a sub-optimal way.\n",
    "\n",
    "Third, to circumvent the difficulties of the indirect optimization for online applications, Direct Methods convert the optimal control problem (OCP) into nonlinear programming (NLP) that can be solved using numerical NLP solvers. Therefore, as there is no need for initial conditions for the adjoint variables, Direct Methods are very adequate for finding local solutions to nonlinear problems in real-time. Recent examples can be found in [14], [15], [39], and [41]. Apart from Interior Point Methods, sequential quadratic programming (SQP)-solvers are well-established for solving NLPs. The problem here is, that the solution of the optimal control problem is very much dependent on an initial starting guess for the numerical solver, which is not trivial to find. In addition to that, solving NLPs is very time-consuming, as these solvers brake down the NLP into smaller linearquadratic programs (QP) that are solved iteratively using forward simulation of the system dynamics.\n",
    "\n",
    "In order to reduce the computational effort, [10] for instance, suggests the formulation of linear-quadratic optimal control problems for trajectory generation. This way, no iterations and no initial starting guess are necessary such that only a single QP-problem needs to be solved at each optimization step. This makes the use of linear model predictive control (LMPC) highly favorable for real-time trajectory generation with high replanning frequencies. Therefore, applications can not only be found within the field of aerial vehicles [4], [24] or marine vessels [30], but also in the field of vehicle automation [2], [8], [29]. As following a given reference curve is one of the most fundamental tasks for vehicle automation, a strong effort was made to apply LMPC to the lateral vehicle guidance problem. For example, [11], [20], and [21] use LMPC for designing a lateral vehicle controller for tracking a given collision free evasive path. As generating a collision free evasive path is very complex for dynamic, time-critical street-scenarios, [9], [14] for instance, include the collision avoidance functionality into the reference tracking concept, by separating the lateral vehicle guidance task into a high-level trajectory generation layer for collision avoidance and a low-level control layer for stabilizing the vehicle, where LMPC can be applied for both layers.\n",
    "\n",
    "Similar to our work, there are several works, using LMPC for trajectory optimization for lateral vehicle guidance. In [1], a trajectory planning algorithm is proposed for collision avoidance in hazard scenarios. In contrast to our approach, the optimal control problem is formulated only for straight roads and constant speeds, which significantly limits the application of this algorithm. Another approach is presented in [28], where the linear system is chosen such that the vehicle heading is used as a system input resulting in kinodynamically infeasible trajectories. In [35], a problem formulation is presented that allows for path tracking of low curvature roads, which again makes the algorithm only applicable for limited use-cases. However, this work features several aspects that were used as an inspiration for the work presented in this paper.\n",
    "\n",
    "Apart from the method for trajectory optimization, current research also focuses on generating trajectories that are similar to human driving behavior [36]. This driving behavior is characterized by a very smooth and continuous steering action minimizing the lateral vehicle jerk and limiting the lateral vehicle acceleration dependent on the current curvature value [17]. Therefore, as indicated in [25] or [26], it is favorable to allow offsets to a given reference under consideration of the vehicles environment in order to increase driving comfort. Consequently, we account for this compromise by choosing an appropriate problem formulation in combination with a suitable cost function in the optimization problem."
   ]
  },
  {
   "cell_type": "code",
   "execution_count": null,
   "id": "d2e7ad86",
   "metadata": {},
   "outputs": [],
   "source": []
  }
 ],
 "metadata": {
  "kernelspec": {
   "display_name": "Python 3 (ipykernel)",
   "language": "python",
   "name": "python3"
  },
  "language_info": {
   "codemirror_mode": {
    "name": "ipython",
    "version": 3
   },
   "file_extension": ".py",
   "mimetype": "text/x-python",
   "name": "python",
   "nbconvert_exporter": "python",
   "pygments_lexer": "ipython3",
   "version": "3.9.7"
  },
  "toc": {
   "base_numbering": 1,
   "nav_menu": {},
   "number_sections": true,
   "sideBar": true,
   "skip_h1_title": false,
   "title_cell": "Table of Contents",
   "title_sidebar": "Contents",
   "toc_cell": false,
   "toc_position": {},
   "toc_section_display": true,
   "toc_window_display": false
  }
 },
 "nbformat": 4,
 "nbformat_minor": 5
}

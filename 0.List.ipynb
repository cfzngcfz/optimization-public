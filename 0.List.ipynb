{
 "cells": [
  {
   "cell_type": "markdown",
   "id": "42bac495",
   "metadata": {},
   "source": [
    "# Review\n",
    "- [x] A Survey of Motion Planning and Control Techniques for Self driving Urban Vehicles [paper](A_Survey_of_Motion_Planning_and_Control_Techniques_for_Self_driving_Urban_Vehicles.pdf) [note](A_Survey_of_Motion_Planning_and_Control_Techniques_for_Self_driving_Urban_Vehicles.ipynb)\n",
    "- [x] Path Planning for Autonomous Driving The State of the Art and Perspectives [paper](Path_Planning_for_Autonomous_Driving_The_State_of_the_Art_and_Perspectives.pdf) [note](Path_Planning_for_Autonomous_Driving_The_State_of_the_Art_and_Perspectives.ipynb)"
   ]
  },
  {
   "cell_type": "markdown",
   "id": "31088ef4",
   "metadata": {},
   "source": [
    "# Optimization\n",
    "- [ ] 无约束非线性最小二乘 Methods for Non linear Least Squares Problems [paper](Methods_for_Non_linear_Least_Squares_Problems.pdf)\n",
    "- [X] OSQP: an operator splitting solver for quadratic programs [paper](OSQP_an_operator_splitting_solver_for_quadratic_programs.pdf) [ipynb](OSQP_an_operator_splitting_solver_for_quadratic_programs.ipynb)\n",
    "- [ ] [POMDP]The Optimal Control of Partially Observable Markov Processes over a Finite Horizon [paper](The_Optimal_Control_of_Partially_Observable_Markov_Processes_over_a_Finite_Horizon.pdf)\n",
    "- [ ] [POMDP]Online planning algorithms for POMDPs [paper](Online_planning_algorithms_for_POMDPs.pdf)"
   ]
  },
  {
   "cell_type": "markdown",
   "id": "9ca47158",
   "metadata": {},
   "source": [
    "# LQR & MPC\n",
    "## LQR\n",
    "- [ ] ALTRO_A fast solver for constrained trajectory optimization [paper](ALTRO_A_fast_solver_for_constrained_trajectory_optimization.pdf)\n",
    "\n",
    "## MPC\n",
    "- [ ] TinyMPC Model Predictive Control on Resource Constrained Microcontrollers [paper](TinyMPC_Model_Predictive_Control_on_Resource_Constrained_Microcontrollers.pdf)\n",
    "- [ ] Lateral vehicle trajectory optimization using constrained linear time-varying MPC [paper](Lateral_vehicle_trajectory_optimization_using_constrained_linear_time_varying_MPC.pdf)"
   ]
  },
  {
   "cell_type": "markdown",
   "id": "e4a1ee79",
   "metadata": {},
   "source": [
    "# 联合规划\n",
    "- [ ] 约束构建 Efficient Formulation of Collision Avoidance Constraints in OCP [paper](Efficient_Formulation_of_Collision_Avoidance_Constraints_in_OCP.pdf)"
   ]
  },
  {
   "cell_type": "code",
   "execution_count": null,
   "id": "e1dc7f38",
   "metadata": {},
   "outputs": [],
   "source": []
  }
 ],
 "metadata": {
  "kernelspec": {
   "display_name": "Python 3 (ipykernel)",
   "language": "python",
   "name": "python3"
  },
  "language_info": {
   "codemirror_mode": {
    "name": "ipython",
    "version": 3
   },
   "file_extension": ".py",
   "mimetype": "text/x-python",
   "name": "python",
   "nbconvert_exporter": "python",
   "pygments_lexer": "ipython3",
   "version": "3.9.7"
  },
  "toc": {
   "base_numbering": 1,
   "nav_menu": {},
   "number_sections": true,
   "sideBar": true,
   "skip_h1_title": false,
   "title_cell": "Table of Contents",
   "title_sidebar": "Contents",
   "toc_cell": false,
   "toc_position": {},
   "toc_section_display": true,
   "toc_window_display": false
  }
 },
 "nbformat": 4,
 "nbformat_minor": 5
}

{
 "cells": [
  {
   "cell_type": "code",
   "execution_count": 25,
   "id": "14e55976",
   "metadata": {},
   "outputs": [
    {
     "name": "stdout",
     "output_type": "stream",
     "text": [
      "ALTRO_A fast solver for constrained trajectory optimization.pdf -> ALTRO_A_fast_solver_for_constrained_trajectory_optimization.pdf\n",
      "Lateral vehicle trajectory optimization using constrained linear time-varying MPC.pdf -> Lateral_vehicle_trajectory_optimization_using_constrained_linear_time_varying_MPC.pdf\n"
     ]
    }
   ],
   "source": [
    "import os, copy\n",
    "path = \"./\"\n",
    "for item in os.listdir(path):\n",
    "    if item.endswith(\".pdf\") or item.endswith(\".ipynb\"):\n",
    "        name_old = copy.deepcopy(item)\n",
    "#         print(\"name_old:\", name_old)\n",
    "        name_new = item.replace(' ', '_').replace('-', '_')\n",
    "#         print(\"name_new:\", name_new)\n",
    "        if name_old != name_new:\n",
    "            if os.path.exists(name_new):\n",
    "                print(name_new, \"already exists, no need to rename!\")\n",
    "            else:\n",
    "                if os.path.exists(name_old):\n",
    "                    os.rename(name_old, name_new)\n",
    "                    print(name_old, \"->\", name_new)\n",
    "                else:\n",
    "                    print(name_old, \"does not exist!\")"
   ]
  },
  {
   "cell_type": "code",
   "execution_count": null,
   "id": "8a8fcd84",
   "metadata": {},
   "outputs": [],
   "source": []
  }
 ],
 "metadata": {
  "kernelspec": {
   "display_name": "Python 3 (ipykernel)",
   "language": "python",
   "name": "python3"
  },
  "language_info": {
   "codemirror_mode": {
    "name": "ipython",
    "version": 3
   },
   "file_extension": ".py",
   "mimetype": "text/x-python",
   "name": "python",
   "nbconvert_exporter": "python",
   "pygments_lexer": "ipython3",
   "version": "3.9.7"
  },
  "toc": {
   "base_numbering": 1,
   "nav_menu": {},
   "number_sections": true,
   "sideBar": true,
   "skip_h1_title": false,
   "title_cell": "Table of Contents",
   "title_sidebar": "Contents",
   "toc_cell": false,
   "toc_position": {},
   "toc_section_display": true,
   "toc_window_display": false
  }
 },
 "nbformat": 4,
 "nbformat_minor": 5
}
